{
  "cells": [
    {
      "cell_type": "markdown",
      "metadata": {
        "colab_type": "text",
        "id": "view-in-github"
      },
      "source": [
        "<a href=\"https://colab.research.google.com/github/sergiomora03/AdvancedTopicsAnalytics/blob/main/exercises/E1-SentimentPrediction.ipynb\" target=\"_parent\"><img src=\"https://colab.research.google.com/assets/colab-badge.svg\" alt=\"Open In Colab\"/></a>"
      ]
    },
    {
      "cell_type": "markdown",
      "metadata": {
        "id": "H9dNk-ySMIOE"
      },
      "source": [
        "# Exercise 1\n",
        "\n",
        "**Estudiantes:**\n",
        "- Mili Galindo\n",
        "- Anguie Garcia\n",
        "- Sonia Ramirez\n",
        "- Lourdes Rodil\n",
        "\n",
        "\n",
        "## Analyze how travelers expressed their feelings on Twitter\n",
        "\n",
        "A sentiment analysis job about the problems of each major U.S. airline.\n",
        "Twitter data was scraped from February of 2015 and contributors were\n",
        "asked to first classify positive, negative, and neutral tweets, followed\n",
        "by categorizing negative reasons (such as \"late flight\" or \"rude service\")."
      ]
    },
    {
      "cell_type": "markdown",
      "metadata": {},
      "source": [
        "## **Stage 1 - Adquisión de datos & EDA**\n",
        "\n",
        "Los datos para el desarrollo del ejecicio fueron obtenidos del Github de la asignatura:"
      ]
    },
    {
      "cell_type": "code",
      "execution_count": 1,
      "metadata": {
        "colab": {
          "base_uri": "https://localhost:8080/",
          "height": 483
        },
        "id": "eQ6tgbFVMIOJ",
        "outputId": "3f580bd5-8597-4f79-c247-53eb8b1b8d88"
      },
      "outputs": [
        {
          "data": {
            "text/html": [
              "<div>\n",
              "<style scoped>\n",
              "    .dataframe tbody tr th:only-of-type {\n",
              "        vertical-align: middle;\n",
              "    }\n",
              "\n",
              "    .dataframe tbody tr th {\n",
              "        vertical-align: top;\n",
              "    }\n",
              "\n",
              "    .dataframe thead th {\n",
              "        text-align: right;\n",
              "    }\n",
              "</style>\n",
              "<table border=\"1\" class=\"dataframe\">\n",
              "  <thead>\n",
              "    <tr style=\"text-align: right;\">\n",
              "      <th></th>\n",
              "      <th>airline_sentiment</th>\n",
              "      <th>airline_sentiment_confidence</th>\n",
              "      <th>negativereason</th>\n",
              "      <th>negativereason_confidence</th>\n",
              "      <th>airline</th>\n",
              "      <th>airline_sentiment_gold</th>\n",
              "      <th>name</th>\n",
              "      <th>negativereason_gold</th>\n",
              "      <th>retweet_count</th>\n",
              "      <th>text</th>\n",
              "      <th>tweet_coord</th>\n",
              "      <th>tweet_created</th>\n",
              "      <th>tweet_location</th>\n",
              "      <th>user_timezone</th>\n",
              "    </tr>\n",
              "    <tr>\n",
              "      <th>tweet_id</th>\n",
              "      <th></th>\n",
              "      <th></th>\n",
              "      <th></th>\n",
              "      <th></th>\n",
              "      <th></th>\n",
              "      <th></th>\n",
              "      <th></th>\n",
              "      <th></th>\n",
              "      <th></th>\n",
              "      <th></th>\n",
              "      <th></th>\n",
              "      <th></th>\n",
              "      <th></th>\n",
              "      <th></th>\n",
              "    </tr>\n",
              "  </thead>\n",
              "  <tbody>\n",
              "    <tr>\n",
              "      <th>570306133677760513</th>\n",
              "      <td>neutral</td>\n",
              "      <td>1.0000</td>\n",
              "      <td>NaN</td>\n",
              "      <td>NaN</td>\n",
              "      <td>Virgin America</td>\n",
              "      <td>NaN</td>\n",
              "      <td>cairdin</td>\n",
              "      <td>NaN</td>\n",
              "      <td>0</td>\n",
              "      <td>@VirginAmerica What @dhepburn said.</td>\n",
              "      <td>NaN</td>\n",
              "      <td>2015-02-24 11:35:52 -0800</td>\n",
              "      <td>NaN</td>\n",
              "      <td>Eastern Time (US &amp; Canada)</td>\n",
              "    </tr>\n",
              "    <tr>\n",
              "      <th>570301130888122368</th>\n",
              "      <td>positive</td>\n",
              "      <td>0.3486</td>\n",
              "      <td>NaN</td>\n",
              "      <td>0.0000</td>\n",
              "      <td>Virgin America</td>\n",
              "      <td>NaN</td>\n",
              "      <td>jnardino</td>\n",
              "      <td>NaN</td>\n",
              "      <td>0</td>\n",
              "      <td>@VirginAmerica plus you've added commercials t...</td>\n",
              "      <td>NaN</td>\n",
              "      <td>2015-02-24 11:15:59 -0800</td>\n",
              "      <td>NaN</td>\n",
              "      <td>Pacific Time (US &amp; Canada)</td>\n",
              "    </tr>\n",
              "    <tr>\n",
              "      <th>570301083672813571</th>\n",
              "      <td>neutral</td>\n",
              "      <td>0.6837</td>\n",
              "      <td>NaN</td>\n",
              "      <td>NaN</td>\n",
              "      <td>Virgin America</td>\n",
              "      <td>NaN</td>\n",
              "      <td>yvonnalynn</td>\n",
              "      <td>NaN</td>\n",
              "      <td>0</td>\n",
              "      <td>@VirginAmerica I didn't today... Must mean I n...</td>\n",
              "      <td>NaN</td>\n",
              "      <td>2015-02-24 11:15:48 -0800</td>\n",
              "      <td>Lets Play</td>\n",
              "      <td>Central Time (US &amp; Canada)</td>\n",
              "    </tr>\n",
              "    <tr>\n",
              "      <th>570301031407624196</th>\n",
              "      <td>negative</td>\n",
              "      <td>1.0000</td>\n",
              "      <td>Bad Flight</td>\n",
              "      <td>0.7033</td>\n",
              "      <td>Virgin America</td>\n",
              "      <td>NaN</td>\n",
              "      <td>jnardino</td>\n",
              "      <td>NaN</td>\n",
              "      <td>0</td>\n",
              "      <td>@VirginAmerica it's really aggressive to blast...</td>\n",
              "      <td>NaN</td>\n",
              "      <td>2015-02-24 11:15:36 -0800</td>\n",
              "      <td>NaN</td>\n",
              "      <td>Pacific Time (US &amp; Canada)</td>\n",
              "    </tr>\n",
              "    <tr>\n",
              "      <th>570300817074462722</th>\n",
              "      <td>negative</td>\n",
              "      <td>1.0000</td>\n",
              "      <td>Can't Tell</td>\n",
              "      <td>1.0000</td>\n",
              "      <td>Virgin America</td>\n",
              "      <td>NaN</td>\n",
              "      <td>jnardino</td>\n",
              "      <td>NaN</td>\n",
              "      <td>0</td>\n",
              "      <td>@VirginAmerica and it's a really big bad thing...</td>\n",
              "      <td>NaN</td>\n",
              "      <td>2015-02-24 11:14:45 -0800</td>\n",
              "      <td>NaN</td>\n",
              "      <td>Pacific Time (US &amp; Canada)</td>\n",
              "    </tr>\n",
              "  </tbody>\n",
              "</table>\n",
              "</div>"
            ],
            "text/plain": [
              "                   airline_sentiment  airline_sentiment_confidence  \\\n",
              "tweet_id                                                             \n",
              "570306133677760513           neutral                        1.0000   \n",
              "570301130888122368          positive                        0.3486   \n",
              "570301083672813571           neutral                        0.6837   \n",
              "570301031407624196          negative                        1.0000   \n",
              "570300817074462722          negative                        1.0000   \n",
              "\n",
              "                   negativereason  negativereason_confidence         airline  \\\n",
              "tweet_id                                                                       \n",
              "570306133677760513            NaN                        NaN  Virgin America   \n",
              "570301130888122368            NaN                     0.0000  Virgin America   \n",
              "570301083672813571            NaN                        NaN  Virgin America   \n",
              "570301031407624196     Bad Flight                     0.7033  Virgin America   \n",
              "570300817074462722     Can't Tell                     1.0000  Virgin America   \n",
              "\n",
              "                   airline_sentiment_gold        name negativereason_gold  \\\n",
              "tweet_id                                                                    \n",
              "570306133677760513                    NaN     cairdin                 NaN   \n",
              "570301130888122368                    NaN    jnardino                 NaN   \n",
              "570301083672813571                    NaN  yvonnalynn                 NaN   \n",
              "570301031407624196                    NaN    jnardino                 NaN   \n",
              "570300817074462722                    NaN    jnardino                 NaN   \n",
              "\n",
              "                    retweet_count  \\\n",
              "tweet_id                            \n",
              "570306133677760513              0   \n",
              "570301130888122368              0   \n",
              "570301083672813571              0   \n",
              "570301031407624196              0   \n",
              "570300817074462722              0   \n",
              "\n",
              "                                                                 text  \\\n",
              "tweet_id                                                                \n",
              "570306133677760513                @VirginAmerica What @dhepburn said.   \n",
              "570301130888122368  @VirginAmerica plus you've added commercials t...   \n",
              "570301083672813571  @VirginAmerica I didn't today... Must mean I n...   \n",
              "570301031407624196  @VirginAmerica it's really aggressive to blast...   \n",
              "570300817074462722  @VirginAmerica and it's a really big bad thing...   \n",
              "\n",
              "                   tweet_coord              tweet_created tweet_location  \\\n",
              "tweet_id                                                                   \n",
              "570306133677760513         NaN  2015-02-24 11:35:52 -0800            NaN   \n",
              "570301130888122368         NaN  2015-02-24 11:15:59 -0800            NaN   \n",
              "570301083672813571         NaN  2015-02-24 11:15:48 -0800      Lets Play   \n",
              "570301031407624196         NaN  2015-02-24 11:15:36 -0800            NaN   \n",
              "570300817074462722         NaN  2015-02-24 11:14:45 -0800            NaN   \n",
              "\n",
              "                                 user_timezone  \n",
              "tweet_id                                        \n",
              "570306133677760513  Eastern Time (US & Canada)  \n",
              "570301130888122368  Pacific Time (US & Canada)  \n",
              "570301083672813571  Central Time (US & Canada)  \n",
              "570301031407624196  Pacific Time (US & Canada)  \n",
              "570300817074462722  Pacific Time (US & Canada)  "
            ]
          },
          "execution_count": 1,
          "metadata": {},
          "output_type": "execute_result"
        }
      ],
      "source": [
        "import pandas as pd\n",
        "import numpy as np\n",
        "\n",
        "%matplotlib inline\n",
        "import matplotlib.pyplot as plt\n",
        "\n",
        "# read the data and set the datetime as the index\n",
        "tweets = pd.read_csv('https://github.com/sergiomora03/AdvancedTopicsAnalytics/raw/main/datasets/Tweets.zip', index_col=0)\n",
        "\n",
        "tweets.head()"
      ]
    },
    {
      "cell_type": "markdown",
      "metadata": {},
      "source": [
        "Se observa que la data set cuenta con 14.640 registros y 14 columnas:"
      ]
    },
    {
      "cell_type": "code",
      "execution_count": 2,
      "metadata": {
        "colab": {
          "base_uri": "https://localhost:8080/"
        },
        "id": "2YdcURXjMIOL",
        "outputId": "2cd7dd62-b53d-413f-f3cf-8535d4dfa60b"
      },
      "outputs": [
        {
          "data": {
            "text/plain": [
              "(14640, 14)"
            ]
          },
          "execution_count": 2,
          "metadata": {},
          "output_type": "execute_result"
        }
      ],
      "source": [
        "tweets.shape"
      ]
    },
    {
      "cell_type": "markdown",
      "metadata": {
        "id": "O7zZWcOAMIOL"
      },
      "source": [
        "### Proportion of tweets with each sentiment"
      ]
    },
    {
      "cell_type": "code",
      "execution_count": 3,
      "metadata": {
        "colab": {
          "base_uri": "https://localhost:8080/"
        },
        "id": "UTaCANCfMIOM",
        "outputId": "05f414c8-feae-450c-a0c9-54967bfd1c10"
      },
      "outputs": [
        {
          "data": {
            "text/plain": [
              "negative    9178\n",
              "neutral     3099\n",
              "positive    2363\n",
              "Name: airline_sentiment, dtype: int64"
            ]
          },
          "execution_count": 3,
          "metadata": {},
          "output_type": "execute_result"
        }
      ],
      "source": [
        "tweets['airline_sentiment'].value_counts()"
      ]
    },
    {
      "cell_type": "markdown",
      "metadata": {
        "id": "OfgGVNvEMIOM"
      },
      "source": [
        "### Proportion of tweets per airline\n"
      ]
    },
    {
      "cell_type": "code",
      "execution_count": 4,
      "metadata": {
        "colab": {
          "base_uri": "https://localhost:8080/"
        },
        "id": "WcT95_IxMION",
        "outputId": "3dfac49d-cecc-4dfb-b7f9-d6fbba7f0636"
      },
      "outputs": [
        {
          "data": {
            "text/plain": [
              "United            3822\n",
              "US Airways        2913\n",
              "American          2759\n",
              "Southwest         2420\n",
              "Delta             2222\n",
              "Virgin America     504\n",
              "Name: airline, dtype: int64"
            ]
          },
          "execution_count": 4,
          "metadata": {},
          "output_type": "execute_result"
        }
      ],
      "source": [
        "tweets['airline'].value_counts()"
      ]
    },
    {
      "cell_type": "code",
      "execution_count": 5,
      "metadata": {
        "colab": {
          "base_uri": "https://localhost:8080/",
          "height": 544
        },
        "id": "HzceHJRDMION",
        "outputId": "ab1b0077-5dd4-4fa2-eba8-08f482dc8395"
      },
      "outputs": [
        {
          "data": {
            "text/plain": [
              "<Axes: >"
            ]
          },
          "execution_count": 5,
          "metadata": {},
          "output_type": "execute_result"
        },
        {
          "data": {
            "image/png": "[encoded data removed]",
            "text/plain": [
              "<Figure size 800x600 with 1 Axes>"
            ]
          },
          "metadata": {},
          "output_type": "display_data"
        }
      ],
      "source": [
        "pd.Series(tweets[\"airline\"]).value_counts().plot(kind = \"bar\",figsize=(8,6),rot = 0)"
      ]
    },
    {
      "cell_type": "code",
      "execution_count": 6,
      "metadata": {
        "colab": {
          "base_uri": "https://localhost:8080/",
          "height": 582
        },
        "id": "54bivdljMIOO",
        "outputId": "bbe9f836-4e32-4c90-b264-c966cf3d1a6d"
      },
      "outputs": [
        {
          "data": {
            "text/plain": [
              "<Axes: title={'center': 'Sentiment by airline'}, xlabel='airline'>"
            ]
          },
          "execution_count": 6,
          "metadata": {},
          "output_type": "execute_result"
        },
        {
          "data": {
            "image/png": "[encoded data removed]",
            "text/plain": [
              "<Figure size 1000x600 with 1 Axes>"
            ]
          },
          "metadata": {},
          "output_type": "display_data"
        }
      ],
      "source": [
        "pd.crosstab(index = tweets[\"airline\"],columns = tweets[\"airline_sentiment\"]).plot(kind='bar',figsize=(10, 6),alpha=0.5,rot=0,stacked=True,title=\"Sentiment by airline\")"
      ]
    },
    {
      "cell_type": "markdown",
      "metadata": {},
      "source": [
        "## **Stage 2 - Limpieza de los datos**"
      ]
    },
    {
      "cell_type": "markdown",
      "metadata": {},
      "source": [
        "### a. Identificación de registros Nulos\n",
        "Se confirma que no existen valores nulos."
      ]
    },
    {
      "cell_type": "code",
      "execution_count": 7,
      "metadata": {},
      "outputs": [
        {
          "data": {
            "text/plain": [
              "0"
            ]
          },
          "execution_count": 7,
          "metadata": {},
          "output_type": "execute_result"
        }
      ],
      "source": [
        "tweets['text'].isnull().sum()"
      ]
    },
    {
      "cell_type": "markdown",
      "metadata": {},
      "source": [
        "## **Stage 3 - Modelación**"
      ]
    },
    {
      "cell_type": "markdown",
      "metadata": {
        "id": "Mmmr5X4pMIOP"
      },
      "source": [
        "# **Exercise 1.1**\n",
        "\n",
        "Predict the sentiment using CountVectorizer\n",
        "\n",
        "use Random Forest classifier"
      ]
    },
    {
      "cell_type": "code",
      "execution_count": 8,
      "metadata": {
        "id": "P8MdENPoMIOP"
      },
      "outputs": [],
      "source": [
        "from sklearn.model_selection import train_test_split, cross_val_score\n",
        "from sklearn.feature_extraction.text import CountVectorizer, TfidfVectorizer\n",
        "from sklearn.ensemble import RandomForestClassifier\n",
        "from nltk.stem.snowball import SnowballStemmer\n",
        "from nltk.stem import WordNetLemmatizer"
      ]
    },
    {
      "cell_type": "markdown",
      "metadata": {},
      "source": [
        "El codigo para crear \"Y\" asigna valores numéricos a los diferentes sentimientos expresados en la columna 'airline_sentiment', lo cual es útil para el análisis posterior donde se requieran valores numéricos en lugar de etiquetas de texto para los sentimientos:"
      ]
    },
    {
      "cell_type": "code",
      "execution_count": 9,
      "metadata": {
        "id": "555S1H6_MIOP"
      },
      "outputs": [],
      "source": [
        "X = tweets['text']\n",
        "y = tweets['airline_sentiment'].map({'negative':-1,'neutral':0,'positive':1})"
      ]
    },
    {
      "cell_type": "markdown",
      "metadata": {},
      "source": [
        "Se confirma el tamaño de los dataset \"x\" y \"y\" para inicial el analisis."
      ]
    },
    {
      "cell_type": "code",
      "execution_count": 10,
      "metadata": {},
      "outputs": [
        {
          "data": {
            "text/plain": [
              "(14640,)"
            ]
          },
          "execution_count": 10,
          "metadata": {},
          "output_type": "execute_result"
        }
      ],
      "source": [
        "y.shape"
      ]
    },
    {
      "cell_type": "code",
      "execution_count": 11,
      "metadata": {},
      "outputs": [
        {
          "data": {
            "text/plain": [
              "(14640,)"
            ]
          },
          "execution_count": 11,
          "metadata": {},
          "output_type": "execute_result"
        }
      ],
      "source": [
        "X.shape"
      ]
    },
    {
      "cell_type": "markdown",
      "metadata": {},
      "source": [
        "### **Modelación**\n",
        "Se genera el modelo de clasificacion usuando **\"CountVectorizer\"** y **\"RandomForestClassifier\"**. Para ello se utiliza se divide el dataset tomando como testing un **30%** del datasert, parametros por defecto en el modelo \"random forest\" excepto por una semilla de 83."
      ]
    },
    {
      "cell_type": "code",
      "execution_count": 12,
      "metadata": {},
      "outputs": [
        {
          "name": "stdout",
          "output_type": "stream",
          "text": [
            "Accuracy: 0.7581967213114754\n",
            "Classification Report:\n",
            "              precision    recall  f1-score   support\n",
            "\n",
            "    negative       0.76      0.96      0.85      2749\n",
            "     neutral       0.68      0.38      0.49       921\n",
            "    positive       0.81      0.46      0.59       722\n",
            "\n",
            "    accuracy                           0.76      4392\n",
            "   macro avg       0.75      0.60      0.64      4392\n",
            "weighted avg       0.75      0.76      0.73      4392\n",
            "\n"
          ]
        }
      ],
      "source": [
        "from sklearn.metrics import accuracy_score, classification_report\n",
        "\n",
        "# Se dividen los datos en conjuntos de entrenamiento y prueba\n",
        "X_train, X_test, y_train, y_test = train_test_split(tweets['text'], tweets['airline_sentiment'], test_size=0.3, random_state=83)\n",
        "\n",
        "# Se convertierte el texto en características numéricas usando CountVectorizer\n",
        "vectorizer = CountVectorizer()\n",
        "X_train_vect = vectorizer.fit_transform(X_train)\n",
        "X_test_vect = vectorizer.transform(X_test)\n",
        "\n",
        "# Se entrena el clasificador Random Forest\n",
        "rf_classifier = RandomForestClassifier(random_state=83)\n",
        "rf_classifier.fit(X_train_vect, y_train)\n",
        "\n",
        "# Se realiza la predeción el sentimiento en el conjunto de prueba\n",
        "y_pred = rf_classifier.predict(X_test_vect)\n",
        "\n",
        "# Se calcula la precisión de la predicción\n",
        "accuracy = accuracy_score(y_test, y_pred)\n",
        "print(\"Accuracy:\", accuracy)\n",
        "\n",
        "# Se genera el reporte de clasificación\n",
        "print(\"Classification Report:\")\n",
        "print(classification_report(y_test, y_pred))\n"
      ]
    },
    {
      "cell_type": "markdown",
      "metadata": {},
      "source": [
        "Finalmente se genera un mapa de confusion para analizar visualmente por etiqueta los resultados de la predicción:"
      ]
    },
    {
      "cell_type": "code",
      "execution_count": 13,
      "metadata": {},
      "outputs": [
        {
          "data": {
            "image/png": "[encoded data removed]",
            "text/plain": [
              "<Figure size 800x600 with 2 Axes>"
            ]
          },
          "metadata": {},
          "output_type": "display_data"
        }
      ],
      "source": [
        "from sklearn.metrics import confusion_matrix\n",
        "import seaborn as sns\n",
        "import matplotlib.pyplot as plt\n",
        "\n",
        "# Calcular la matriz de confusión\n",
        "conf_matrix = confusion_matrix(y_test, y_pred)\n",
        "\n",
        "# Visualizar la matriz de confusión\n",
        "plt.figure(figsize=(8, 6))\n",
        "sns.heatmap(conf_matrix, annot=True, fmt='d', cmap='Blues', xticklabels=rf_classifier.classes_, yticklabels=rf_classifier.classes_)\n",
        "plt.xlabel('Predicted')\n",
        "plt.ylabel('Actual')\n",
        "plt.title('Confusion Matrix')\n",
        "plt.show()\n"
      ]
    },
    {
      "cell_type": "markdown",
      "metadata": {},
      "source": [
        "#### **Conclusion- Exercise 1.1:**\n",
        "El acuracy de este modelo es **0.7581** es positivo si consideramos que se realizo preprocesamiento al data ser inicial, por tanto se espera que para los siguiente el ejercio mejore."
      ]
    },
    {
      "cell_type": "markdown",
      "metadata": {
        "id": "VGKjeUf6MIOQ"
      },
      "source": [
        "# **Exercise 1.2**\n",
        "\n",
        "Remove stopwords, then predict the sentiment using CountVectorizer. use Random Forest classifier\n",
        "\n",
        "Se realizaron dos ejercicios para evaluar la diferencia en el desempeño:\n",
        "\n",
        "a. Realizar preprocesamiento antes y luego usar el \"CountVectorizer\"\n",
        "\n",
        "b. Incluir en \"CountVectorizer\" el parametro de stopwords "
      ]
    },
    {
      "cell_type": "markdown",
      "metadata": {},
      "source": [
        "### **a. Realizar preprocesamiento antes y luego usar el \"CountVectorizer\"**\n",
        "\n",
        "Se realizo un preprocesamiento para eliminar stopwords:"
      ]
    },
    {
      "cell_type": "code",
      "execution_count": 16,
      "metadata": {},
      "outputs": [
        {
          "name": "stderr",
          "output_type": "stream",
          "text": [
            "[nltk_data] Downloading package stopwords to\n",
            "[nltk_data]     C:\\Users\\LENOVO\\AppData\\Roaming\\nltk_data...\n",
            "[nltk_data]   Package stopwords is already up-to-date!\n",
            "[nltk_data] Downloading package punkt to\n",
            "[nltk_data]     C:\\Users\\LENOVO\\AppData\\Roaming\\nltk_data...\n",
            "[nltk_data]   Package punkt is already up-to-date!\n"
          ]
        }
      ],
      "source": [
        "import nltk\n",
        "from nltk.corpus import stopwords\n",
        "from nltk.tokenize import word_tokenize\n",
        "\n",
        "# Descargar la lista de stopwords si aún no lo has hecho\n",
        "nltk.download('stopwords')\n",
        "nltk.download('punkt')\n",
        "\n",
        "# Definir una función para eliminar stopwords\n",
        "def remove_stopwords(text):\n",
        "    stop_words = set(stopwords.words('english'))  # Puedes cambiar 'english' por otro idioma si es necesario\n",
        "    word_tokens = word_tokenize(text)\n",
        "    filtered_text = [word for word in word_tokens if word.lower() not in stop_words]\n",
        "    return ' '.join(filtered_text)\n",
        "\n",
        "# Crea una nueva columna llamada 'clean_text' que contiene los textos sin stopwords\n",
        "tweets['clean_text'] = tweets['text'].apply(remove_stopwords)\n"
      ]
    },
    {
      "cell_type": "markdown",
      "metadata": {},
      "source": [
        "##### **Modelación**\n",
        "Se genera el modelo de clasificacion usuando **\"CountVectorizer\"** y **\"RandomForestClassifier\"**. Para ello se utiliza se divide el dataset tomando como testing un **30%** del datasert, parametros por defecto en el modelo \"random forest\" excepto por una semilla  de 83."
      ]
    },
    {
      "cell_type": "code",
      "execution_count": 24,
      "metadata": {},
      "outputs": [
        {
          "name": "stdout",
          "output_type": "stream",
          "text": [
            "Accuracy: 0.7527322404371585\n",
            "Classification Report:\n",
            "              precision    recall  f1-score   support\n",
            "\n",
            "    negative       0.79      0.91      0.85      2749\n",
            "     neutral       0.60      0.42      0.50       921\n",
            "    positive       0.73      0.56      0.63       722\n",
            "\n",
            "    accuracy                           0.75      4392\n",
            "   macro avg       0.71      0.63      0.66      4392\n",
            "weighted avg       0.74      0.75      0.74      4392\n",
            "\n"
          ]
        }
      ],
      "source": [
        "from sklearn.metrics import accuracy_score, classification_report\n",
        "\n",
        "# Se dividen los datos en conjuntos de entrenamiento y prueba\n",
        "X_train2, X_test2, y_train2, y_test2 = train_test_split(tweets['clean_text'], tweets['airline_sentiment'], test_size=0.3, random_state=83)\n",
        "\n",
        "# Se convertierte el texto en características numéricas usando CountVectorizer\n",
        "vectorizer = CountVectorizer()\n",
        "X_train2_vect = vectorizer.fit_transform(X_train2)\n",
        "X_test2_vect = vectorizer.transform(X_test2)\n",
        "\n",
        "# Se entrena el clasificador Random Forest\n",
        "rf_classifier2 = RandomForestClassifier(random_state=83)\n",
        "rf_classifier2.fit(X_train2_vect, y_train2)\n",
        "\n",
        "# Se realiza la predeción el sentimiento en el conjunto de prueba\n",
        "y_pred2 = rf_classifier2.predict(X_test2_vect)\n",
        "\n",
        "# Se calcula la precisión de la predicción\n",
        "accuracy2 = accuracy_score(y_test2, y_pred2)\n",
        "print(\"Accuracy:\", accuracy2)\n",
        "\n",
        "# Se genera el reporte de clasificación\n",
        "print(\"Classification Report:\")\n",
        "print(classification_report(y_test2, y_pred2))"
      ]
    },
    {
      "cell_type": "markdown",
      "metadata": {},
      "source": [
        "**Conclusion:** El resultado del modelo genera un accuracy de **0.7527** que es menor al generado en el **ejercicio 1.1 - Accuracy: 0.7581**  donde no se eliminaron las stopwords. "
      ]
    },
    {
      "cell_type": "markdown",
      "metadata": {},
      "source": [
        "### **b. Incluir en \"CountVectorizer\" el parametro de stopwords**\n",
        "\n",
        "Se genera el modelo de clasificacion usuando **\"CountVectorizer\"** donde se incluye como pararamentro la eliminacion de stopwords del ingles y **\"RandomForestClassifier\"**.\n",
        "\n",
        " Para ello se utiliza se divide el dataset tomando como testing un **30%** del datasert, parametros por defecto en el modelo \"random forest\" excepto por una semilla de 83."
      ]
    },
    {
      "cell_type": "code",
      "execution_count": 34,
      "metadata": {},
      "outputs": [
        {
          "name": "stdout",
          "output_type": "stream",
          "text": [
            "Accuracy: 0.75\n",
            "Classification Report:\n",
            "              precision    recall  f1-score   support\n",
            "\n",
            "    negative       0.80      0.89      0.84      2749\n",
            "     neutral       0.57      0.47      0.51       921\n",
            "    positive       0.70      0.58      0.63       722\n",
            "\n",
            "    accuracy                           0.75      4392\n",
            "   macro avg       0.69      0.65      0.66      4392\n",
            "weighted avg       0.74      0.75      0.74      4392\n",
            "\n"
          ]
        }
      ],
      "source": [
        "from sklearn.metrics import accuracy_score, classification_report\n",
        "\n",
        "# Se dividen los datos en conjuntos de entrenamiento y prueba\n",
        "X_train3, X_test3, y_train3, y_test3 = train_test_split(tweets['text'], tweets['airline_sentiment'], test_size=0.3, random_state=83)\n",
        "\n",
        "# Se convertierte el texto en características numéricas usando CountVectorizer\n",
        "vectorizer3 = CountVectorizer(stop_words='english')\n",
        "X_train3_vect = vectorizer3.fit_transform(X_train3)\n",
        "X_test3_vect = vectorizer3.transform(X_test3)\n",
        "\n",
        "# Se entrena el clasificador Random Forest\n",
        "rf_classifier3 = RandomForestClassifier(random_state=83)\n",
        "rf_classifier3.fit(X_train3_vect, y_train3)\n",
        "\n",
        "# Se realiza la predeción el sentimiento en el conjunto de prueba\n",
        "y_pred3 = rf_classifier3.predict(X_test3_vect)\n",
        "\n",
        "# Se calcula la precisión de la predicción\n",
        "accuracy3 = accuracy_score(y_test3, y_pred3)\n",
        "print(\"Accuracy:\", accuracy3)\n",
        "\n",
        "# Se genera el reporte de clasificación\n",
        "print(\"Classification Report:\")\n",
        "print(classification_report(y_test3, y_pred3))\n"
      ]
    },
    {
      "cell_type": "markdown",
      "metadata": {},
      "source": [
        "**Conclusion:** El resultado del modelo genera un accuracy de 0.75 que es aun menor al generado en el **ejercicio 1.1 - Accuracy: 0.7581**  donde no se eliminaron las stopwords. "
      ]
    },
    {
      "cell_type": "markdown",
      "metadata": {},
      "source": [
        "Finalmente se genera un mapa de confusion para analizar visualmente por etiqueta los resultados de la predicción **a. Realizar preprocesamiento antes y luego usar el \"CountVectorizer\"**"
      ]
    },
    {
      "cell_type": "code",
      "execution_count": 28,
      "metadata": {},
      "outputs": [
        {
          "data": {
            "image/png": "[encoded data removed]",
            "text/plain": [
              "<Figure size 800x600 with 2 Axes>"
            ]
          },
          "metadata": {},
          "output_type": "display_data"
        }
      ],
      "source": [
        "from sklearn.metrics import confusion_matrix\n",
        "import seaborn as sns\n",
        "import matplotlib.pyplot as plt\n",
        "\n",
        "# Calcular la matriz de confusión\n",
        "conf_matrix = confusion_matrix(y_test2, y_pred2)\n",
        "\n",
        "# Visualizar la matriz de confusión\n",
        "plt.figure(figsize=(8, 6))\n",
        "sns.heatmap(conf_matrix, annot=True, fmt='d', cmap='Blues', xticklabels=rf_classifier.classes_, yticklabels=rf_classifier.classes_)\n",
        "plt.xlabel('Predicted')\n",
        "plt.ylabel('Actual')\n",
        "plt.title('Confusion Matrix')\n",
        "plt.show()"
      ]
    },
    {
      "cell_type": "markdown",
      "metadata": {},
      "source": [
        "#### **Conclusion- Exercise 1.2:**\n",
        "\n",
        "Considerando que el accuracy del ejercicio #1.1 sin eliminar stopwords fue **0.7581**. La eliminacion de stopwords para este dataset no mejoro el acuracy.\n",
        "\n",
        "No obstante, de ser necesario es mejor utilizar un preprocesamiento con \"nltk.corpus - stopwords\" donde el accuracy fue **0.7527** en constrate con la eliminacion de stopwords como parametro de CountVectorizer donde el accurancy disminuyo aún mas a **0.75**."
      ]
    },
    {
      "cell_type": "markdown",
      "metadata": {
        "id": "WXsegR18MIOQ"
      },
      "source": [
        "# **Exercise 1.3**\n",
        "\n",
        "Increase n_grams size (with and without stopwords),  then predict the sentiment using CountVectorizer\n",
        "\n",
        "use Random Forest classifier"
      ]
    },
    {
      "cell_type": "markdown",
      "metadata": {},
      "source": [
        "### **a. Modelo ajustando el tamaño de n_grams y sin Stopwords**"
      ]
    },
    {
      "cell_type": "code",
      "execution_count": 29,
      "metadata": {
        "id": "c7VVKnTUMIOQ"
      },
      "outputs": [
        {
          "name": "stdout",
          "output_type": "stream",
          "text": [
            "Accuracy: 0.7490892531876139\n",
            "Classification Report:\n",
            "              precision    recall  f1-score   support\n",
            "\n",
            "    negative       0.75      0.97      0.85      2749\n",
            "     neutral       0.67      0.35      0.46       921\n",
            "    positive       0.83      0.43      0.57       722\n",
            "\n",
            "    accuracy                           0.75      4392\n",
            "   macro avg       0.75      0.58      0.63      4392\n",
            "weighted avg       0.75      0.75      0.72      4392\n",
            "\n"
          ]
        }
      ],
      "source": [
        "from sklearn.metrics import accuracy_score, classification_report\n",
        "\n",
        "# Se dividen los datos en conjuntos de entrenamiento y prueba\n",
        "X_train4, X_test4, y_train4, y_test4 = train_test_split(tweets['text'], tweets['airline_sentiment'], test_size=0.3, random_state=83)\n",
        "\n",
        "# Se convertierte el texto en características numéricas usando CountVectorizer\n",
        "vectorizer4 = CountVectorizer(ngram_range=(1, 2)) # Para tener unigramas y bigramas\n",
        "X_train4_vect = vectorizer4.fit_transform(X_train)\n",
        "X_test4_vect = vectorizer4.transform(X_test4)\n",
        "\n",
        "# Se entrena el clasificador Random Forest\n",
        "rf_classifier4 = RandomForestClassifier(random_state=83)\n",
        "rf_classifier4.fit(X_train4_vect, y_train4)\n",
        "\n",
        "# Se realiza la predeción el sentimiento en el conjunto de prueba\n",
        "y_pred4 = rf_classifier4.predict(X_test4_vect)\n",
        "\n",
        "# Se calcula la precisión de la predicción\n",
        "accuracy4 = accuracy_score(y_test4, y_pred4)\n",
        "print(\"Accuracy:\", accuracy4)\n",
        "\n",
        "# Se genera el reporte de clasificación\n",
        "print(\"Classification Report:\")\n",
        "print(classification_report(y_test4, y_pred4))"
      ]
    },
    {
      "cell_type": "markdown",
      "metadata": {},
      "source": [
        "**Conclusion:** El resultado del modelo genera un accuracy de **0.7490** que es menor al generado en el **ejercicio 1.1 - Accuracy: 0.7581** donde no se incluyo los n_gramas como modelo."
      ]
    },
    {
      "cell_type": "markdown",
      "metadata": {},
      "source": [
        "### **b. Modelo ajustando el tamaño de n_grams y con Stopwords**"
      ]
    },
    {
      "cell_type": "code",
      "execution_count": 32,
      "metadata": {},
      "outputs": [
        {
          "name": "stdout",
          "output_type": "stream",
          "text": [
            "Accuracy: 0.7538706739526412\n",
            "Classification Report:\n",
            "              precision    recall  f1-score   support\n",
            "\n",
            "    negative       0.79      0.92      0.85      2749\n",
            "     neutral       0.59      0.42      0.49       921\n",
            "    positive       0.75      0.55      0.63       722\n",
            "\n",
            "    accuracy                           0.75      4392\n",
            "   macro avg       0.71      0.63      0.66      4392\n",
            "weighted avg       0.74      0.75      0.74      4392\n",
            "\n"
          ]
        }
      ],
      "source": [
        "from sklearn.metrics import accuracy_score, classification_report\n",
        "\n",
        "# Se dividen los datos en conjuntos de entrenamiento y prueba\n",
        "X_train5, X_test5, y_train5, y_test5 = train_test_split(tweets['text'], tweets['airline_sentiment'], test_size=0.3, random_state=83)\n",
        "\n",
        "# Se convertierte el texto en características numéricas usando CountVectorizer\n",
        "vectorizer5 = CountVectorizer(ngram_range=(1,2),stop_words='english') # Para tener unigramas y bigramas\n",
        "X_train5_vect = vectorizer5.fit_transform(X_train5)\n",
        "X_test5_vect = vectorizer5.transform(X_test5)\n",
        "\n",
        "# Se entrena el clasificador Random Forest\n",
        "rf_classifier5 = RandomForestClassifier(random_state=83)\n",
        "rf_classifier5.fit(X_train5_vect, y_train5)\n",
        "\n",
        "# Se realiza la predeción el sentimiento en el conjunto de prueba\n",
        "y_pred5 = rf_classifier5.predict(X_test5_vect)\n",
        "\n",
        "# Se calcula la precisión de la predicción\n",
        "accuracy5 = accuracy_score(y_test5, y_pred5)\n",
        "print(\"Accuracy:\", accuracy5)\n",
        "\n",
        "# Se genera el reporte de clasificación\n",
        "print(\"Classification Report:\")\n",
        "print(classification_report(y_test5, y_pred5))"
      ]
    },
    {
      "cell_type": "markdown",
      "metadata": {},
      "source": [
        "**Conclusion:** El resultado del modelo genera un accuracy de **0.7538** que es menor al generado en el **ejercicio 1.1 - Accuracy: 0.7581** donde no se incluyo los n_gramas ni stopwords en el modelo pero es mayor al **ejercicio 1.2b - Accuracy: 0.75**  donde se eliminaron los stopword pero no se consideraron n_gramas en el modelo."
      ]
    },
    {
      "cell_type": "markdown",
      "metadata": {},
      "source": [
        "#### **Conclusion- Exercise 1.3:**\n",
        "\n",
        "Considerando que el accuracy del ejercicio #1.1 sin eliminar stopwords fue **0.7581**. La eliminacion de stopwords e inclusion de n_gramas para este dataset no mejoro el acuracy de un modelo simple.\n",
        "\n",
        "No obstante de ser necesario es mejor aplicar la eliminacion de stoptwords y enegramas donde el accuracy fue **0.7538** en constrate con solo considerar enegramas como parametro de CountVectorizer donde el accurancy disminuyo aún mas a **0.7490**."
      ]
    },
    {
      "cell_type": "markdown",
      "metadata": {
        "id": "fs25hLFsMIOR"
      },
      "source": [
        "# **Exercise 1.4**\n",
        "\n",
        "Predict the sentiment using TfidfVectorizer. - use Random Forest classifier \n",
        "\n",
        "Se analizan 3 modelos:\n",
        "\n",
        "a. Modelo con parametros por defecto en TfidfVectorizer\n",
        "\n",
        "b. Modelo incluyendo parametro de stopwords en TfidfVectorizer\n",
        "\n",
        "c. Modelo incluyendo parametro de n_gramas en TfidfVectorizer\n",
        "\n",
        "d. Modelo incluyendo parametro de stopwords y n_gramas en TfidfVectorizer"
      ]
    },
    {
      "cell_type": "markdown",
      "metadata": {},
      "source": [
        "### **a. Modelo con parametros por defecto en TfidfVectorizer**\n",
        "\n",
        "Se genera el modelo de clasificacion usuando **\"TfidfVectorizer\"** con los pararamentro por defecto y como modelo  **\"RandomForestClassifier\"** con parametros por defecto en el modelo \"random forest\" excepto por una semilla de 83.\n",
        "\n",
        "Para ello se utiliza se divide el dataset tomando como testing un **30%** del dataset."
      ]
    },
    {
      "cell_type": "code",
      "execution_count": 53,
      "metadata": {
        "id": "JijThp6hMIOR"
      },
      "outputs": [
        {
          "name": "stdout",
          "output_type": "stream",
          "text": [
            "Accuracy: 0.7513661202185792\n",
            "              precision    recall  f1-score   support\n",
            "\n",
            "    negative       0.76      0.96      0.85      2749\n",
            "     neutral       0.69      0.38      0.49       921\n",
            "    positive       0.79      0.42      0.55       722\n",
            "\n",
            "    accuracy                           0.75      4392\n",
            "   macro avg       0.75      0.59      0.63      4392\n",
            "weighted avg       0.75      0.75      0.72      4392\n",
            "\n"
          ]
        }
      ],
      "source": [
        "from sklearn.model_selection import train_test_split\n",
        "from sklearn.feature_extraction.text import TfidfVectorizer\n",
        "from sklearn.ensemble import RandomForestClassifier\n",
        "from sklearn.metrics import classification_report\n",
        "\n",
        "# Dividir los datos en conjuntos de entrenamiento y prueba\n",
        "X_train6, X_test6, y_train6, y_test6 = train_test_split(tweets['text'], tweets['airline_sentiment'], test_size=0.3, random_state=83)\n",
        "\n",
        "# Paso 1: Vectorización de texto con TfidfVectorizer\n",
        "vectorizer6 = TfidfVectorizer()\n",
        "X_train_tfidf = vectorizer6.fit_transform(X_train6)\n",
        "X_test_tfidf = vectorizer6.transform(X_test6)\n",
        "\n",
        "# Paso 2: Entrenamiento del clasificador RandomForest\n",
        "rf_classifier6 = RandomForestClassifier(random_state=83)\n",
        "rf_classifier6.fit(X_train_tfidf, y_train6)\n",
        "\n",
        "# Paso 3: Predicción en el conjunto de prueba\n",
        "y_pred6 = rf_classifier6.predict(X_test_tfidf)\n",
        "\n",
        "# Paso 4: Se calcula la precisión de la predicción\n",
        "accuracy6 = accuracy_score(y_test6, y_pred6)\n",
        "print(\"Accuracy:\", accuracy6)\n",
        "\n",
        "# Paso 5: Evaluar el rendimiento del modelo\n",
        "print(classification_report(y_test6, y_pred6))"
      ]
    },
    {
      "cell_type": "markdown",
      "metadata": {},
      "source": [
        "**Conclusion:** El resultado del modelo genera un accuracy de **0.7513** que es menor al generado en el **ejercicio 1.1 - mejor Accuracy: 0.7581** al utilizar CountVectorizer"
      ]
    },
    {
      "cell_type": "markdown",
      "metadata": {},
      "source": [
        "### **b. Modelo incluyendo parametro de stopwords en TfidfVectorizer**\n",
        "\n",
        "Se genera el modelo de clasificacion usuando **\"TfidfVectorizer\"** donde se incluye como pararamentro la eliminacion de stopwords del ingles y **\"RandomForestClassifier\"**con parametros por defecto en el modelo \"random forest\" excepto por una semilla de 83.\n",
        "\n",
        "Para ello se utiliza se divide el dataset tomando como testing un **30%** del dataset."
      ]
    },
    {
      "cell_type": "code",
      "execution_count": 54,
      "metadata": {},
      "outputs": [
        {
          "name": "stdout",
          "output_type": "stream",
          "text": [
            "Accuracy: 0.7563752276867031\n",
            "              precision    recall  f1-score   support\n",
            "\n",
            "    negative       0.78      0.93      0.85      2749\n",
            "     neutral       0.63      0.40      0.49       921\n",
            "    positive       0.73      0.54      0.62       722\n",
            "\n",
            "    accuracy                           0.76      4392\n",
            "   macro avg       0.72      0.62      0.65      4392\n",
            "weighted avg       0.74      0.76      0.74      4392\n",
            "\n"
          ]
        }
      ],
      "source": [
        "from sklearn.model_selection import train_test_split\n",
        "from sklearn.feature_extraction.text import TfidfVectorizer\n",
        "from sklearn.ensemble import RandomForestClassifier\n",
        "from sklearn.metrics import classification_report\n",
        "\n",
        "# Dividir los datos en conjuntos de entrenamiento y prueba\n",
        "X_train7, X_test7, y_train7, y_test7 = train_test_split(tweets['text'], tweets['airline_sentiment'], test_size=0.3, random_state=83)\n",
        "\n",
        "# Paso 1: Vectorización de texto con TfidfVectorizer\n",
        "vectorizer7 = TfidfVectorizer(stop_words='english')\n",
        "X_train_tfidf = vectorizer7.fit_transform(X_train7)\n",
        "X_test_tfidf = vectorizer7.transform(X_test7)\n",
        "\n",
        "# Paso 2: Entrenamiento del clasificador RandomForest\n",
        "rf_classifier7 = RandomForestClassifier(random_state=83)\n",
        "rf_classifier7.fit(X_train_tfidf, y_train7)\n",
        "\n",
        "# Paso 3: Predicción en el conjunto de prueba\n",
        "y_pred7 = rf_classifier7.predict(X_test_tfidf)\n",
        "\n",
        "# Paso 4: Se calcula la precisión de la predicción\n",
        "accuracy7 = accuracy_score(y_test7, y_pred7)\n",
        "print(\"Accuracy:\", accuracy7)\n",
        "\n",
        "# Paso 5: Evaluar el rendimiento del modelo\n",
        "print(classification_report(y_test7, y_pred7))"
      ]
    },
    {
      "cell_type": "markdown",
      "metadata": {},
      "source": [
        "**Conclusion:** El resultado del modelo genera un accuracy de **0.7563** que es menor al generado en el **ejercicio 1.1 - mejor Accuracy: 0.7581** al utilizar CountVectorizer"
      ]
    },
    {
      "cell_type": "markdown",
      "metadata": {},
      "source": [
        "### **c. Modelo incluyendo parametro de n_gramas en TfidfVectorizer**\n",
        "\n",
        "Se genera el modelo de clasificacion usuando **\"TfidfVectorizer\"** donde se incluye como pararamentro de enegramas (1,2) y **\"RandomForestClassifier\"** con parametros por defecto en el modelo \"random forest\" excepto por una semilla de 83.\n",
        "\n",
        "Para ello se utiliza se divide el dataset tomando como testing un **30%** del dataset."
      ]
    },
    {
      "cell_type": "code",
      "execution_count": 58,
      "metadata": {},
      "outputs": [
        {
          "name": "stdout",
          "output_type": "stream",
          "text": [
            "Accuracy: 0.7609289617486339\n",
            "              precision    recall  f1-score   support\n",
            "\n",
            "    negative       0.77      0.95      0.85      2749\n",
            "     neutral       0.66      0.43      0.52       921\n",
            "    positive       0.81      0.47      0.60       722\n",
            "\n",
            "    accuracy                           0.76      4392\n",
            "   macro avg       0.75      0.62      0.66      4392\n",
            "weighted avg       0.76      0.76      0.74      4392\n",
            "\n"
          ]
        }
      ],
      "source": [
        "from sklearn.model_selection import train_test_split\n",
        "from sklearn.feature_extraction.text import TfidfVectorizer\n",
        "from sklearn.ensemble import RandomForestClassifier\n",
        "from sklearn.metrics import classification_report\n",
        "\n",
        "# Dividir los datos en conjuntos de entrenamiento y prueba\n",
        "X_train8, X_test8, y_train8, y_test8 = train_test_split(tweets['text'], tweets['airline_sentiment'], test_size=0.3, random_state=83)\n",
        "\n",
        "# Paso 1: Vectorización de texto con TfidfVectorizer\n",
        "vectorizer8 = TfidfVectorizer(ngram_range=(1,2))\n",
        "X_train_tfidf = vectorizer8.fit_transform(X_train6)\n",
        "X_test_tfidf = vectorizer8.transform(X_test6)\n",
        "\n",
        "# Paso 2: Entrenamiento del clasificador RandomForest\n",
        "rf_classifier8 = RandomForestClassifier(random_state=83)\n",
        "rf_classifier8.fit(X_train_tfidf, y_train8)\n",
        "\n",
        "# Paso 3: Predicción en el conjunto de prueba\n",
        "y_pred8 = rf_classifier8.predict(X_test_tfidf)\n",
        "\n",
        "# Paso 4: Se calcula la precisión de la predicción\n",
        "accuracy8 = accuracy_score(y_test8, y_pred8)\n",
        "print(\"Accuracy:\", accuracy8)\n",
        "\n",
        "# Paso 5: Evaluar el rendimiento del modelo\n",
        "print(classification_report(y_test8, y_pred8))"
      ]
    },
    {
      "cell_type": "markdown",
      "metadata": {},
      "source": [
        "Finalmente se genera un mapa de confusion para analizar visualmente por etiqueta los resultados de la predicción del mejor modelo del numeral 1.4"
      ]
    },
    {
      "cell_type": "code",
      "execution_count": 59,
      "metadata": {},
      "outputs": [
        {
          "data": {
            "image/png": "[encoded data removed]",
            "text/plain": [
              "<Figure size 800x600 with 2 Axes>"
            ]
          },
          "metadata": {},
          "output_type": "display_data"
        }
      ],
      "source": [
        "from sklearn.metrics import confusion_matrix\n",
        "import seaborn as sns\n",
        "import matplotlib.pyplot as plt\n",
        "\n",
        "# Calcular la matriz de confusión\n",
        "conf_matrix = confusion_matrix(y_test8, y_pred8)\n",
        "\n",
        "# Visualizar la matriz de confusión\n",
        "plt.figure(figsize=(8, 6))\n",
        "sns.heatmap(conf_matrix, annot=True, fmt='d', cmap='Blues', xticklabels=rf_classifier.classes_, yticklabels=rf_classifier.classes_)\n",
        "plt.xlabel('Predicted')\n",
        "plt.ylabel('Actual')\n",
        "plt.title('Confusion Matrix')\n",
        "plt.show()"
      ]
    },
    {
      "cell_type": "markdown",
      "metadata": {},
      "source": [
        "**Conclusion:** El resultado del modelo genera un accuracy de **0.7609** siendo mayor al generado en el **ejercicio 1.1 - mejor Accuracy: 0.7581** al utilizar \"CountVectorizer\" y  tiene mejor desempeño frente al modelo 1.4a. donde se utilizo \"TfidfVectorizer\" con parametros con defecto."
      ]
    },
    {
      "cell_type": "markdown",
      "metadata": {},
      "source": [
        "\n",
        "### **d. Modelo incluyendo parametro de stopwords y n_gramas en TfidfVectorizer**\n",
        "\n",
        "Se genera el modelo de clasificacion usando **\"TfidfVectorizer\"** donde se incluye como pararamentro de enegramas (1,2) y con la eliminacion de stopwords del ingles. Adicionalmente, el modelo **\"RandomForestClassifier\"** con parametros por defecto en el modelo \"random forest\" excepto por una semilla de 83.\n",
        "\n",
        "Para ello se utiliza se divide el dataset tomando como testing un **30%** del dataset."
      ]
    },
    {
      "cell_type": "code",
      "execution_count": 57,
      "metadata": {},
      "outputs": [
        {
          "name": "stdout",
          "output_type": "stream",
          "text": [
            "Accuracy: 0.7572859744990893\n",
            "              precision    recall  f1-score   support\n",
            "\n",
            "    negative       0.81      0.90      0.85      2749\n",
            "     neutral       0.58      0.49      0.53       921\n",
            "    positive       0.74      0.56      0.64       722\n",
            "\n",
            "    accuracy                           0.76      4392\n",
            "   macro avg       0.71      0.65      0.67      4392\n",
            "weighted avg       0.75      0.76      0.75      4392\n",
            "\n"
          ]
        }
      ],
      "source": [
        "from sklearn.model_selection import train_test_split\n",
        "from sklearn.feature_extraction.text import TfidfVectorizer\n",
        "from sklearn.ensemble import RandomForestClassifier\n",
        "from sklearn.metrics import classification_report\n",
        "\n",
        "# Dividir los datos en conjuntos de entrenamiento y prueba\n",
        "X_train9, X_test9, y_train9, y_test9 = train_test_split(tweets['text'], tweets['airline_sentiment'], test_size=0.3, random_state=83)\n",
        "\n",
        "# Paso 1: Vectorización de texto con TfidfVectorizer\n",
        "vectorizer9 = TfidfVectorizer(ngram_range=(1,2),stop_words='english')\n",
        "X_train_tfidf = vectorizer9.fit_transform(X_train6)\n",
        "X_test_tfidf = vectorizer9.transform(X_test6)\n",
        "\n",
        "# Paso 2: Entrenamiento del clasificador RandomForest\n",
        "rf_classifier9 = RandomForestClassifier(random_state=83)\n",
        "rf_classifier9.fit(X_train_tfidf, y_train9)\n",
        "\n",
        "# Paso 3: Predicción en el conjunto de prueba\n",
        "y_pred9 = rf_classifier9.predict(X_test_tfidf)\n",
        "\n",
        "# Paso 4: Se calcula la precisión de la predicción\n",
        "accuracy9 = accuracy_score(y_test9, y_pred9)\n",
        "print(\"Accuracy:\", accuracy9)\n",
        "\n",
        "# Paso 5: Evaluar el rendimiento del modelo\n",
        "print(classification_report(y_test8, y_pred8))"
      ]
    },
    {
      "cell_type": "markdown",
      "metadata": {},
      "source": [
        "**Conclusion:** El resultado del modelo genera un accuracy de **0.7573** que es menor al generado en el **ejercicio 1.1 - mejor Accuracy: 0.7581** al utilizar CountVectorizer.\n",
        "\n",
        "Al comparar con los modelos de 1.4, se observa que tiene mejor desempeño frente al modelo 1.4a. donde se utilizo \"TfidfVectorizer\" con parametros con defecto pero menor desempeño frente al modelo 1.4b donde solo se utilizó enegramas (1,2)"
      ]
    },
    {
      "cell_type": "markdown",
      "metadata": {},
      "source": [
        "#### **Conclusion- Exercise 1.4:**\n",
        "\n",
        "Considerando que el mejor accuracy del ejercicio #1.1 fue **0.7581** utilizo \"CountVectorizer\", para este dataset se observa un mejor desempeño utilizar \"TfidfVectorizer\".\n",
        "\n",
        "Enfoncandonos en el \"TfidfVectorizer\" como  herramienta de vectorización de texto, para este data set genero mejores resultados cuando se utilizaron enegramas (1,2) **Acuracy 0.7609** que cuando se utilizo solo stopwords **Acuracy 0.7563** o la combinacion de stopword y enegramas **Acuracy 0.7573**"
      ]
    }
  ],
  "metadata": {
    "colab": {
      "include_colab_link": true,
      "provenance": []
    },
    "kernelspec": {
      "display_name": "Python 3",
      "language": "python",
      "name": "python3"
    },
    "language_info": {
      "codemirror_mode": {
        "name": "ipython",
        "version": 3
      },
      "file_extension": ".py",
      "mimetype": "text/x-python",
      "name": "python",
      "nbconvert_exporter": "python",
      "pygments_lexer": "ipython3",
      "version": "3.11.4"
    }
  },
  "nbformat": 4,
  "nbformat_minor": 0
}
